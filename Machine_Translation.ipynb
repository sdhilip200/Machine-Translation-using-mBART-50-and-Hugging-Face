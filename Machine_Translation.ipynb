{
  "nbformat": 4,
  "nbformat_minor": 0,
  "metadata": {
    "colab": {
      "name": "English_to_Tamil_Hindi_Translation_with_Hugging_Face_🤗_and_MBart.ipynb",
      "provenance": [],
      "include_colab_link": true
    },
    "kernelspec": {
      "name": "python3",
      "display_name": "Python 3"
    },
    "accelerator": "GPU",
    "widgets": {
      "application/vnd.jupyter.widget-state+json": {
        "cecc116517a748ea9db9bb15f68edf3d": {
          "model_module": "@jupyter-widgets/controls",
          "model_name": "HBoxModel",
          "state": {
            "_view_name": "HBoxView",
            "_dom_classes": [],
            "_model_name": "HBoxModel",
            "_view_module": "@jupyter-widgets/controls",
            "_model_module_version": "1.5.0",
            "_view_count": null,
            "_view_module_version": "1.5.0",
            "box_style": "",
            "layout": "IPY_MODEL_4e584c47ca254cbfb0648e6657bc0050",
            "_model_module": "@jupyter-widgets/controls",
            "children": [
              "IPY_MODEL_538ff5a5772f44198cb999532c174ec3",
              "IPY_MODEL_f80e5c2210f84363b4359dd5a27a0e46"
            ]
          }
        },
        "4e584c47ca254cbfb0648e6657bc0050": {
          "model_module": "@jupyter-widgets/base",
          "model_name": "LayoutModel",
          "state": {
            "_view_name": "LayoutView",
            "grid_template_rows": null,
            "right": null,
            "justify_content": null,
            "_view_module": "@jupyter-widgets/base",
            "overflow": null,
            "_model_module_version": "1.2.0",
            "_view_count": null,
            "flex_flow": null,
            "width": null,
            "min_width": null,
            "border": null,
            "align_items": null,
            "bottom": null,
            "_model_module": "@jupyter-widgets/base",
            "top": null,
            "grid_column": null,
            "overflow_y": null,
            "overflow_x": null,
            "grid_auto_flow": null,
            "grid_area": null,
            "grid_template_columns": null,
            "flex": null,
            "_model_name": "LayoutModel",
            "justify_items": null,
            "grid_row": null,
            "max_height": null,
            "align_content": null,
            "visibility": null,
            "align_self": null,
            "height": null,
            "min_height": null,
            "padding": null,
            "grid_auto_rows": null,
            "grid_gap": null,
            "max_width": null,
            "order": null,
            "_view_module_version": "1.2.0",
            "grid_template_areas": null,
            "object_position": null,
            "object_fit": null,
            "grid_auto_columns": null,
            "margin": null,
            "display": null,
            "left": null
          }
        },
        "538ff5a5772f44198cb999532c174ec3": {
          "model_module": "@jupyter-widgets/controls",
          "model_name": "FloatProgressModel",
          "state": {
            "_view_name": "ProgressView",
            "style": "IPY_MODEL_d254b37a0bc44a758af70409201acafc",
            "_dom_classes": [],
            "description": "Downloading: 100%",
            "_model_name": "FloatProgressModel",
            "bar_style": "success",
            "max": 1428,
            "_view_module": "@jupyter-widgets/controls",
            "_model_module_version": "1.5.0",
            "value": 1428,
            "_view_count": null,
            "_view_module_version": "1.5.0",
            "orientation": "horizontal",
            "min": 0,
            "description_tooltip": null,
            "_model_module": "@jupyter-widgets/controls",
            "layout": "IPY_MODEL_fefa569c49e04495a73c195acab7465c"
          }
        },
        "f80e5c2210f84363b4359dd5a27a0e46": {
          "model_module": "@jupyter-widgets/controls",
          "model_name": "HTMLModel",
          "state": {
            "_view_name": "HTMLView",
            "style": "IPY_MODEL_740e09f5ce924102af81d74f97660e46",
            "_dom_classes": [],
            "description": "",
            "_model_name": "HTMLModel",
            "placeholder": "​",
            "_view_module": "@jupyter-widgets/controls",
            "_model_module_version": "1.5.0",
            "value": " 1.43k/1.43k [01:44&lt;00:00, 13.7B/s]",
            "_view_count": null,
            "_view_module_version": "1.5.0",
            "description_tooltip": null,
            "_model_module": "@jupyter-widgets/controls",
            "layout": "IPY_MODEL_d1320a50325743bea745940a6b510381"
          }
        },
        "d254b37a0bc44a758af70409201acafc": {
          "model_module": "@jupyter-widgets/controls",
          "model_name": "ProgressStyleModel",
          "state": {
            "_view_name": "StyleView",
            "_model_name": "ProgressStyleModel",
            "description_width": "initial",
            "_view_module": "@jupyter-widgets/base",
            "_model_module_version": "1.5.0",
            "_view_count": null,
            "_view_module_version": "1.2.0",
            "bar_color": null,
            "_model_module": "@jupyter-widgets/controls"
          }
        },
        "fefa569c49e04495a73c195acab7465c": {
          "model_module": "@jupyter-widgets/base",
          "model_name": "LayoutModel",
          "state": {
            "_view_name": "LayoutView",
            "grid_template_rows": null,
            "right": null,
            "justify_content": null,
            "_view_module": "@jupyter-widgets/base",
            "overflow": null,
            "_model_module_version": "1.2.0",
            "_view_count": null,
            "flex_flow": null,
            "width": null,
            "min_width": null,
            "border": null,
            "align_items": null,
            "bottom": null,
            "_model_module": "@jupyter-widgets/base",
            "top": null,
            "grid_column": null,
            "overflow_y": null,
            "overflow_x": null,
            "grid_auto_flow": null,
            "grid_area": null,
            "grid_template_columns": null,
            "flex": null,
            "_model_name": "LayoutModel",
            "justify_items": null,
            "grid_row": null,
            "max_height": null,
            "align_content": null,
            "visibility": null,
            "align_self": null,
            "height": null,
            "min_height": null,
            "padding": null,
            "grid_auto_rows": null,
            "grid_gap": null,
            "max_width": null,
            "order": null,
            "_view_module_version": "1.2.0",
            "grid_template_areas": null,
            "object_position": null,
            "object_fit": null,
            "grid_auto_columns": null,
            "margin": null,
            "display": null,
            "left": null
          }
        },
        "740e09f5ce924102af81d74f97660e46": {
          "model_module": "@jupyter-widgets/controls",
          "model_name": "DescriptionStyleModel",
          "state": {
            "_view_name": "StyleView",
            "_model_name": "DescriptionStyleModel",
            "description_width": "",
            "_view_module": "@jupyter-widgets/base",
            "_model_module_version": "1.5.0",
            "_view_count": null,
            "_view_module_version": "1.2.0",
            "_model_module": "@jupyter-widgets/controls"
          }
        },
        "d1320a50325743bea745940a6b510381": {
          "model_module": "@jupyter-widgets/base",
          "model_name": "LayoutModel",
          "state": {
            "_view_name": "LayoutView",
            "grid_template_rows": null,
            "right": null,
            "justify_content": null,
            "_view_module": "@jupyter-widgets/base",
            "overflow": null,
            "_model_module_version": "1.2.0",
            "_view_count": null,
            "flex_flow": null,
            "width": null,
            "min_width": null,
            "border": null,
            "align_items": null,
            "bottom": null,
            "_model_module": "@jupyter-widgets/base",
            "top": null,
            "grid_column": null,
            "overflow_y": null,
            "overflow_x": null,
            "grid_auto_flow": null,
            "grid_area": null,
            "grid_template_columns": null,
            "flex": null,
            "_model_name": "LayoutModel",
            "justify_items": null,
            "grid_row": null,
            "max_height": null,
            "align_content": null,
            "visibility": null,
            "align_self": null,
            "height": null,
            "min_height": null,
            "padding": null,
            "grid_auto_rows": null,
            "grid_gap": null,
            "max_width": null,
            "order": null,
            "_view_module_version": "1.2.0",
            "grid_template_areas": null,
            "object_position": null,
            "object_fit": null,
            "grid_auto_columns": null,
            "margin": null,
            "display": null,
            "left": null
          }
        },
        "f973259bd9a0438aa7183acae82e5e34": {
          "model_module": "@jupyter-widgets/controls",
          "model_name": "HBoxModel",
          "state": {
            "_view_name": "HBoxView",
            "_dom_classes": [],
            "_model_name": "HBoxModel",
            "_view_module": "@jupyter-widgets/controls",
            "_model_module_version": "1.5.0",
            "_view_count": null,
            "_view_module_version": "1.5.0",
            "box_style": "",
            "layout": "IPY_MODEL_220e331fd28848e894d681a5f77869d1",
            "_model_module": "@jupyter-widgets/controls",
            "children": [
              "IPY_MODEL_bef48e174b3949b0af80ee02f8be9420",
              "IPY_MODEL_1f107ec472a145d2a0a31e0cbcfca8d1"
            ]
          }
        },
        "220e331fd28848e894d681a5f77869d1": {
          "model_module": "@jupyter-widgets/base",
          "model_name": "LayoutModel",
          "state": {
            "_view_name": "LayoutView",
            "grid_template_rows": null,
            "right": null,
            "justify_content": null,
            "_view_module": "@jupyter-widgets/base",
            "overflow": null,
            "_model_module_version": "1.2.0",
            "_view_count": null,
            "flex_flow": null,
            "width": null,
            "min_width": null,
            "border": null,
            "align_items": null,
            "bottom": null,
            "_model_module": "@jupyter-widgets/base",
            "top": null,
            "grid_column": null,
            "overflow_y": null,
            "overflow_x": null,
            "grid_auto_flow": null,
            "grid_area": null,
            "grid_template_columns": null,
            "flex": null,
            "_model_name": "LayoutModel",
            "justify_items": null,
            "grid_row": null,
            "max_height": null,
            "align_content": null,
            "visibility": null,
            "align_self": null,
            "height": null,
            "min_height": null,
            "padding": null,
            "grid_auto_rows": null,
            "grid_gap": null,
            "max_width": null,
            "order": null,
            "_view_module_version": "1.2.0",
            "grid_template_areas": null,
            "object_position": null,
            "object_fit": null,
            "grid_auto_columns": null,
            "margin": null,
            "display": null,
            "left": null
          }
        },
        "bef48e174b3949b0af80ee02f8be9420": {
          "model_module": "@jupyter-widgets/controls",
          "model_name": "FloatProgressModel",
          "state": {
            "_view_name": "ProgressView",
            "style": "IPY_MODEL_0361ec24eb6a416791a784a187c984e2",
            "_dom_classes": [],
            "description": "Downloading: 100%",
            "_model_name": "FloatProgressModel",
            "bar_style": "success",
            "max": 2444714899,
            "_view_module": "@jupyter-widgets/controls",
            "_model_module_version": "1.5.0",
            "value": 2444714899,
            "_view_count": null,
            "_view_module_version": "1.5.0",
            "orientation": "horizontal",
            "min": 0,
            "description_tooltip": null,
            "_model_module": "@jupyter-widgets/controls",
            "layout": "IPY_MODEL_282e91d56bb24517812affb85a5c0ca8"
          }
        },
        "1f107ec472a145d2a0a31e0cbcfca8d1": {
          "model_module": "@jupyter-widgets/controls",
          "model_name": "HTMLModel",
          "state": {
            "_view_name": "HTMLView",
            "style": "IPY_MODEL_2cf95c30912544d4a0c31512f5b4b86b",
            "_dom_classes": [],
            "description": "",
            "_model_name": "HTMLModel",
            "placeholder": "​",
            "_view_module": "@jupyter-widgets/controls",
            "_model_module_version": "1.5.0",
            "value": " 2.44G/2.44G [01:44&lt;00:00, 23.5MB/s]",
            "_view_count": null,
            "_view_module_version": "1.5.0",
            "description_tooltip": null,
            "_model_module": "@jupyter-widgets/controls",
            "layout": "IPY_MODEL_05b5910fd38c417182de2c0101df5821"
          }
        },
        "0361ec24eb6a416791a784a187c984e2": {
          "model_module": "@jupyter-widgets/controls",
          "model_name": "ProgressStyleModel",
          "state": {
            "_view_name": "StyleView",
            "_model_name": "ProgressStyleModel",
            "description_width": "initial",
            "_view_module": "@jupyter-widgets/base",
            "_model_module_version": "1.5.0",
            "_view_count": null,
            "_view_module_version": "1.2.0",
            "bar_color": null,
            "_model_module": "@jupyter-widgets/controls"
          }
        },
        "282e91d56bb24517812affb85a5c0ca8": {
          "model_module": "@jupyter-widgets/base",
          "model_name": "LayoutModel",
          "state": {
            "_view_name": "LayoutView",
            "grid_template_rows": null,
            "right": null,
            "justify_content": null,
            "_view_module": "@jupyter-widgets/base",
            "overflow": null,
            "_model_module_version": "1.2.0",
            "_view_count": null,
            "flex_flow": null,
            "width": null,
            "min_width": null,
            "border": null,
            "align_items": null,
            "bottom": null,
            "_model_module": "@jupyter-widgets/base",
            "top": null,
            "grid_column": null,
            "overflow_y": null,
            "overflow_x": null,
            "grid_auto_flow": null,
            "grid_area": null,
            "grid_template_columns": null,
            "flex": null,
            "_model_name": "LayoutModel",
            "justify_items": null,
            "grid_row": null,
            "max_height": null,
            "align_content": null,
            "visibility": null,
            "align_self": null,
            "height": null,
            "min_height": null,
            "padding": null,
            "grid_auto_rows": null,
            "grid_gap": null,
            "max_width": null,
            "order": null,
            "_view_module_version": "1.2.0",
            "grid_template_areas": null,
            "object_position": null,
            "object_fit": null,
            "grid_auto_columns": null,
            "margin": null,
            "display": null,
            "left": null
          }
        },
        "2cf95c30912544d4a0c31512f5b4b86b": {
          "model_module": "@jupyter-widgets/controls",
          "model_name": "DescriptionStyleModel",
          "state": {
            "_view_name": "StyleView",
            "_model_name": "DescriptionStyleModel",
            "description_width": "",
            "_view_module": "@jupyter-widgets/base",
            "_model_module_version": "1.5.0",
            "_view_count": null,
            "_view_module_version": "1.2.0",
            "_model_module": "@jupyter-widgets/controls"
          }
        },
        "05b5910fd38c417182de2c0101df5821": {
          "model_module": "@jupyter-widgets/base",
          "model_name": "LayoutModel",
          "state": {
            "_view_name": "LayoutView",
            "grid_template_rows": null,
            "right": null,
            "justify_content": null,
            "_view_module": "@jupyter-widgets/base",
            "overflow": null,
            "_model_module_version": "1.2.0",
            "_view_count": null,
            "flex_flow": null,
            "width": null,
            "min_width": null,
            "border": null,
            "align_items": null,
            "bottom": null,
            "_model_module": "@jupyter-widgets/base",
            "top": null,
            "grid_column": null,
            "overflow_y": null,
            "overflow_x": null,
            "grid_auto_flow": null,
            "grid_area": null,
            "grid_template_columns": null,
            "flex": null,
            "_model_name": "LayoutModel",
            "justify_items": null,
            "grid_row": null,
            "max_height": null,
            "align_content": null,
            "visibility": null,
            "align_self": null,
            "height": null,
            "min_height": null,
            "padding": null,
            "grid_auto_rows": null,
            "grid_gap": null,
            "max_width": null,
            "order": null,
            "_view_module_version": "1.2.0",
            "grid_template_areas": null,
            "object_position": null,
            "object_fit": null,
            "grid_auto_columns": null,
            "margin": null,
            "display": null,
            "left": null
          }
        },
        "0b45aef13d474e138d9e57da053b0800": {
          "model_module": "@jupyter-widgets/controls",
          "model_name": "HBoxModel",
          "state": {
            "_view_name": "HBoxView",
            "_dom_classes": [],
            "_model_name": "HBoxModel",
            "_view_module": "@jupyter-widgets/controls",
            "_model_module_version": "1.5.0",
            "_view_count": null,
            "_view_module_version": "1.5.0",
            "box_style": "",
            "layout": "IPY_MODEL_472ea435ce834d98a0144ff3996ad405",
            "_model_module": "@jupyter-widgets/controls",
            "children": [
              "IPY_MODEL_82c94fac17a0486589b3c9998df4eda4",
              "IPY_MODEL_95c0121c21374ded8ec3d3816e3ce324"
            ]
          }
        },
        "472ea435ce834d98a0144ff3996ad405": {
          "model_module": "@jupyter-widgets/base",
          "model_name": "LayoutModel",
          "state": {
            "_view_name": "LayoutView",
            "grid_template_rows": null,
            "right": null,
            "justify_content": null,
            "_view_module": "@jupyter-widgets/base",
            "overflow": null,
            "_model_module_version": "1.2.0",
            "_view_count": null,
            "flex_flow": null,
            "width": null,
            "min_width": null,
            "border": null,
            "align_items": null,
            "bottom": null,
            "_model_module": "@jupyter-widgets/base",
            "top": null,
            "grid_column": null,
            "overflow_y": null,
            "overflow_x": null,
            "grid_auto_flow": null,
            "grid_area": null,
            "grid_template_columns": null,
            "flex": null,
            "_model_name": "LayoutModel",
            "justify_items": null,
            "grid_row": null,
            "max_height": null,
            "align_content": null,
            "visibility": null,
            "align_self": null,
            "height": null,
            "min_height": null,
            "padding": null,
            "grid_auto_rows": null,
            "grid_gap": null,
            "max_width": null,
            "order": null,
            "_view_module_version": "1.2.0",
            "grid_template_areas": null,
            "object_position": null,
            "object_fit": null,
            "grid_auto_columns": null,
            "margin": null,
            "display": null,
            "left": null
          }
        },
        "82c94fac17a0486589b3c9998df4eda4": {
          "model_module": "@jupyter-widgets/controls",
          "model_name": "FloatProgressModel",
          "state": {
            "_view_name": "ProgressView",
            "style": "IPY_MODEL_529ade3d70c44d4f83c625c4809451b9",
            "_dom_classes": [],
            "description": "Downloading: 100%",
            "_model_name": "FloatProgressModel",
            "bar_style": "success",
            "max": 5069051,
            "_view_module": "@jupyter-widgets/controls",
            "_model_module_version": "1.5.0",
            "value": 5069051,
            "_view_count": null,
            "_view_module_version": "1.5.0",
            "orientation": "horizontal",
            "min": 0,
            "description_tooltip": null,
            "_model_module": "@jupyter-widgets/controls",
            "layout": "IPY_MODEL_88e884d5653a4414b63fb4c968f114ee"
          }
        },
        "95c0121c21374ded8ec3d3816e3ce324": {
          "model_module": "@jupyter-widgets/controls",
          "model_name": "HTMLModel",
          "state": {
            "_view_name": "HTMLView",
            "style": "IPY_MODEL_634c76b1d73b4c908fb3c19368deb8a6",
            "_dom_classes": [],
            "description": "",
            "_model_name": "HTMLModel",
            "placeholder": "​",
            "_view_module": "@jupyter-widgets/controls",
            "_model_module_version": "1.5.0",
            "value": " 5.07M/5.07M [00:01&lt;00:00, 3.33MB/s]",
            "_view_count": null,
            "_view_module_version": "1.5.0",
            "description_tooltip": null,
            "_model_module": "@jupyter-widgets/controls",
            "layout": "IPY_MODEL_dc0e1d7dde47468f9dcd7ce5ce1affb2"
          }
        },
        "529ade3d70c44d4f83c625c4809451b9": {
          "model_module": "@jupyter-widgets/controls",
          "model_name": "ProgressStyleModel",
          "state": {
            "_view_name": "StyleView",
            "_model_name": "ProgressStyleModel",
            "description_width": "initial",
            "_view_module": "@jupyter-widgets/base",
            "_model_module_version": "1.5.0",
            "_view_count": null,
            "_view_module_version": "1.2.0",
            "bar_color": null,
            "_model_module": "@jupyter-widgets/controls"
          }
        },
        "88e884d5653a4414b63fb4c968f114ee": {
          "model_module": "@jupyter-widgets/base",
          "model_name": "LayoutModel",
          "state": {
            "_view_name": "LayoutView",
            "grid_template_rows": null,
            "right": null,
            "justify_content": null,
            "_view_module": "@jupyter-widgets/base",
            "overflow": null,
            "_model_module_version": "1.2.0",
            "_view_count": null,
            "flex_flow": null,
            "width": null,
            "min_width": null,
            "border": null,
            "align_items": null,
            "bottom": null,
            "_model_module": "@jupyter-widgets/base",
            "top": null,
            "grid_column": null,
            "overflow_y": null,
            "overflow_x": null,
            "grid_auto_flow": null,
            "grid_area": null,
            "grid_template_columns": null,
            "flex": null,
            "_model_name": "LayoutModel",
            "justify_items": null,
            "grid_row": null,
            "max_height": null,
            "align_content": null,
            "visibility": null,
            "align_self": null,
            "height": null,
            "min_height": null,
            "padding": null,
            "grid_auto_rows": null,
            "grid_gap": null,
            "max_width": null,
            "order": null,
            "_view_module_version": "1.2.0",
            "grid_template_areas": null,
            "object_position": null,
            "object_fit": null,
            "grid_auto_columns": null,
            "margin": null,
            "display": null,
            "left": null
          }
        },
        "634c76b1d73b4c908fb3c19368deb8a6": {
          "model_module": "@jupyter-widgets/controls",
          "model_name": "DescriptionStyleModel",
          "state": {
            "_view_name": "StyleView",
            "_model_name": "DescriptionStyleModel",
            "description_width": "",
            "_view_module": "@jupyter-widgets/base",
            "_model_module_version": "1.5.0",
            "_view_count": null,
            "_view_module_version": "1.2.0",
            "_model_module": "@jupyter-widgets/controls"
          }
        },
        "dc0e1d7dde47468f9dcd7ce5ce1affb2": {
          "model_module": "@jupyter-widgets/base",
          "model_name": "LayoutModel",
          "state": {
            "_view_name": "LayoutView",
            "grid_template_rows": null,
            "right": null,
            "justify_content": null,
            "_view_module": "@jupyter-widgets/base",
            "overflow": null,
            "_model_module_version": "1.2.0",
            "_view_count": null,
            "flex_flow": null,
            "width": null,
            "min_width": null,
            "border": null,
            "align_items": null,
            "bottom": null,
            "_model_module": "@jupyter-widgets/base",
            "top": null,
            "grid_column": null,
            "overflow_y": null,
            "overflow_x": null,
            "grid_auto_flow": null,
            "grid_area": null,
            "grid_template_columns": null,
            "flex": null,
            "_model_name": "LayoutModel",
            "justify_items": null,
            "grid_row": null,
            "max_height": null,
            "align_content": null,
            "visibility": null,
            "align_self": null,
            "height": null,
            "min_height": null,
            "padding": null,
            "grid_auto_rows": null,
            "grid_gap": null,
            "max_width": null,
            "order": null,
            "_view_module_version": "1.2.0",
            "grid_template_areas": null,
            "object_position": null,
            "object_fit": null,
            "grid_auto_columns": null,
            "margin": null,
            "display": null,
            "left": null
          }
        },
        "4af517e897824ddf8b2bc270df2e9bc7": {
          "model_module": "@jupyter-widgets/controls",
          "model_name": "HBoxModel",
          "state": {
            "_view_name": "HBoxView",
            "_dom_classes": [],
            "_model_name": "HBoxModel",
            "_view_module": "@jupyter-widgets/controls",
            "_model_module_version": "1.5.0",
            "_view_count": null,
            "_view_module_version": "1.5.0",
            "box_style": "",
            "layout": "IPY_MODEL_d412a1a1decc4090a6c737474b4ed099",
            "_model_module": "@jupyter-widgets/controls",
            "children": [
              "IPY_MODEL_61894958ee734514b33c79ea1cbc075b",
              "IPY_MODEL_2319053bff774f14ab1f86bdae967d5f"
            ]
          }
        },
        "d412a1a1decc4090a6c737474b4ed099": {
          "model_module": "@jupyter-widgets/base",
          "model_name": "LayoutModel",
          "state": {
            "_view_name": "LayoutView",
            "grid_template_rows": null,
            "right": null,
            "justify_content": null,
            "_view_module": "@jupyter-widgets/base",
            "overflow": null,
            "_model_module_version": "1.2.0",
            "_view_count": null,
            "flex_flow": null,
            "width": null,
            "min_width": null,
            "border": null,
            "align_items": null,
            "bottom": null,
            "_model_module": "@jupyter-widgets/base",
            "top": null,
            "grid_column": null,
            "overflow_y": null,
            "overflow_x": null,
            "grid_auto_flow": null,
            "grid_area": null,
            "grid_template_columns": null,
            "flex": null,
            "_model_name": "LayoutModel",
            "justify_items": null,
            "grid_row": null,
            "max_height": null,
            "align_content": null,
            "visibility": null,
            "align_self": null,
            "height": null,
            "min_height": null,
            "padding": null,
            "grid_auto_rows": null,
            "grid_gap": null,
            "max_width": null,
            "order": null,
            "_view_module_version": "1.2.0",
            "grid_template_areas": null,
            "object_position": null,
            "object_fit": null,
            "grid_auto_columns": null,
            "margin": null,
            "display": null,
            "left": null
          }
        },
        "61894958ee734514b33c79ea1cbc075b": {
          "model_module": "@jupyter-widgets/controls",
          "model_name": "FloatProgressModel",
          "state": {
            "_view_name": "ProgressView",
            "style": "IPY_MODEL_af411f9cf24848d7858c7a004e837930",
            "_dom_classes": [],
            "description": "Downloading: 100%",
            "_model_name": "FloatProgressModel",
            "bar_style": "success",
            "max": 717,
            "_view_module": "@jupyter-widgets/controls",
            "_model_module_version": "1.5.0",
            "value": 717,
            "_view_count": null,
            "_view_module_version": "1.5.0",
            "orientation": "horizontal",
            "min": 0,
            "description_tooltip": null,
            "_model_module": "@jupyter-widgets/controls",
            "layout": "IPY_MODEL_77d4cab3f2774812ae41b258c40fee99"
          }
        },
        "2319053bff774f14ab1f86bdae967d5f": {
          "model_module": "@jupyter-widgets/controls",
          "model_name": "HTMLModel",
          "state": {
            "_view_name": "HTMLView",
            "style": "IPY_MODEL_900a0947afbf4ded988265fb2aa7fbb9",
            "_dom_classes": [],
            "description": "",
            "_model_name": "HTMLModel",
            "placeholder": "​",
            "_view_module": "@jupyter-widgets/controls",
            "_model_module_version": "1.5.0",
            "value": " 717/717 [00:00&lt;00:00, 720B/s]",
            "_view_count": null,
            "_view_module_version": "1.5.0",
            "description_tooltip": null,
            "_model_module": "@jupyter-widgets/controls",
            "layout": "IPY_MODEL_b3013043b13940e6832c66e520c3a808"
          }
        },
        "af411f9cf24848d7858c7a004e837930": {
          "model_module": "@jupyter-widgets/controls",
          "model_name": "ProgressStyleModel",
          "state": {
            "_view_name": "StyleView",
            "_model_name": "ProgressStyleModel",
            "description_width": "initial",
            "_view_module": "@jupyter-widgets/base",
            "_model_module_version": "1.5.0",
            "_view_count": null,
            "_view_module_version": "1.2.0",
            "bar_color": null,
            "_model_module": "@jupyter-widgets/controls"
          }
        },
        "77d4cab3f2774812ae41b258c40fee99": {
          "model_module": "@jupyter-widgets/base",
          "model_name": "LayoutModel",
          "state": {
            "_view_name": "LayoutView",
            "grid_template_rows": null,
            "right": null,
            "justify_content": null,
            "_view_module": "@jupyter-widgets/base",
            "overflow": null,
            "_model_module_version": "1.2.0",
            "_view_count": null,
            "flex_flow": null,
            "width": null,
            "min_width": null,
            "border": null,
            "align_items": null,
            "bottom": null,
            "_model_module": "@jupyter-widgets/base",
            "top": null,
            "grid_column": null,
            "overflow_y": null,
            "overflow_x": null,
            "grid_auto_flow": null,
            "grid_area": null,
            "grid_template_columns": null,
            "flex": null,
            "_model_name": "LayoutModel",
            "justify_items": null,
            "grid_row": null,
            "max_height": null,
            "align_content": null,
            "visibility": null,
            "align_self": null,
            "height": null,
            "min_height": null,
            "padding": null,
            "grid_auto_rows": null,
            "grid_gap": null,
            "max_width": null,
            "order": null,
            "_view_module_version": "1.2.0",
            "grid_template_areas": null,
            "object_position": null,
            "object_fit": null,
            "grid_auto_columns": null,
            "margin": null,
            "display": null,
            "left": null
          }
        },
        "900a0947afbf4ded988265fb2aa7fbb9": {
          "model_module": "@jupyter-widgets/controls",
          "model_name": "DescriptionStyleModel",
          "state": {
            "_view_name": "StyleView",
            "_model_name": "DescriptionStyleModel",
            "description_width": "",
            "_view_module": "@jupyter-widgets/base",
            "_model_module_version": "1.5.0",
            "_view_count": null,
            "_view_module_version": "1.2.0",
            "_model_module": "@jupyter-widgets/controls"
          }
        },
        "b3013043b13940e6832c66e520c3a808": {
          "model_module": "@jupyter-widgets/base",
          "model_name": "LayoutModel",
          "state": {
            "_view_name": "LayoutView",
            "grid_template_rows": null,
            "right": null,
            "justify_content": null,
            "_view_module": "@jupyter-widgets/base",
            "overflow": null,
            "_model_module_version": "1.2.0",
            "_view_count": null,
            "flex_flow": null,
            "width": null,
            "min_width": null,
            "border": null,
            "align_items": null,
            "bottom": null,
            "_model_module": "@jupyter-widgets/base",
            "top": null,
            "grid_column": null,
            "overflow_y": null,
            "overflow_x": null,
            "grid_auto_flow": null,
            "grid_area": null,
            "grid_template_columns": null,
            "flex": null,
            "_model_name": "LayoutModel",
            "justify_items": null,
            "grid_row": null,
            "max_height": null,
            "align_content": null,
            "visibility": null,
            "align_self": null,
            "height": null,
            "min_height": null,
            "padding": null,
            "grid_auto_rows": null,
            "grid_gap": null,
            "max_width": null,
            "order": null,
            "_view_module_version": "1.2.0",
            "grid_template_areas": null,
            "object_position": null,
            "object_fit": null,
            "grid_auto_columns": null,
            "margin": null,
            "display": null,
            "left": null
          }
        },
        "20d41ccb3d33459494927b04ae7f5f97": {
          "model_module": "@jupyter-widgets/controls",
          "model_name": "HBoxModel",
          "state": {
            "_view_name": "HBoxView",
            "_dom_classes": [],
            "_model_name": "HBoxModel",
            "_view_module": "@jupyter-widgets/controls",
            "_model_module_version": "1.5.0",
            "_view_count": null,
            "_view_module_version": "1.5.0",
            "box_style": "",
            "layout": "IPY_MODEL_5059e08d16a54ddf914cc9b6b45f0e3b",
            "_model_module": "@jupyter-widgets/controls",
            "children": [
              "IPY_MODEL_8566dcbf7ffd4f5abbfab37ff9e7d361",
              "IPY_MODEL_b0bf68f7919b494b9decb6d49c958436"
            ]
          }
        },
        "5059e08d16a54ddf914cc9b6b45f0e3b": {
          "model_module": "@jupyter-widgets/base",
          "model_name": "LayoutModel",
          "state": {
            "_view_name": "LayoutView",
            "grid_template_rows": null,
            "right": null,
            "justify_content": null,
            "_view_module": "@jupyter-widgets/base",
            "overflow": null,
            "_model_module_version": "1.2.0",
            "_view_count": null,
            "flex_flow": null,
            "width": null,
            "min_width": null,
            "border": null,
            "align_items": null,
            "bottom": null,
            "_model_module": "@jupyter-widgets/base",
            "top": null,
            "grid_column": null,
            "overflow_y": null,
            "overflow_x": null,
            "grid_auto_flow": null,
            "grid_area": null,
            "grid_template_columns": null,
            "flex": null,
            "_model_name": "LayoutModel",
            "justify_items": null,
            "grid_row": null,
            "max_height": null,
            "align_content": null,
            "visibility": null,
            "align_self": null,
            "height": null,
            "min_height": null,
            "padding": null,
            "grid_auto_rows": null,
            "grid_gap": null,
            "max_width": null,
            "order": null,
            "_view_module_version": "1.2.0",
            "grid_template_areas": null,
            "object_position": null,
            "object_fit": null,
            "grid_auto_columns": null,
            "margin": null,
            "display": null,
            "left": null
          }
        },
        "8566dcbf7ffd4f5abbfab37ff9e7d361": {
          "model_module": "@jupyter-widgets/controls",
          "model_name": "FloatProgressModel",
          "state": {
            "_view_name": "ProgressView",
            "style": "IPY_MODEL_c002c3fd7f124ed7bc405b49fb5435b6",
            "_dom_classes": [],
            "description": "Downloading: 100%",
            "_model_name": "FloatProgressModel",
            "bar_style": "success",
            "max": 528,
            "_view_module": "@jupyter-widgets/controls",
            "_model_module_version": "1.5.0",
            "value": 528,
            "_view_count": null,
            "_view_module_version": "1.5.0",
            "orientation": "horizontal",
            "min": 0,
            "description_tooltip": null,
            "_model_module": "@jupyter-widgets/controls",
            "layout": "IPY_MODEL_c98628bc34aa428a9fa355068c2d80de"
          }
        },
        "b0bf68f7919b494b9decb6d49c958436": {
          "model_module": "@jupyter-widgets/controls",
          "model_name": "HTMLModel",
          "state": {
            "_view_name": "HTMLView",
            "style": "IPY_MODEL_304c463c24424e51b5950ebe28a183d7",
            "_dom_classes": [],
            "description": "",
            "_model_name": "HTMLModel",
            "placeholder": "​",
            "_view_module": "@jupyter-widgets/controls",
            "_model_module_version": "1.5.0",
            "value": " 528/528 [00:00&lt;00:00, 594B/s]",
            "_view_count": null,
            "_view_module_version": "1.5.0",
            "description_tooltip": null,
            "_model_module": "@jupyter-widgets/controls",
            "layout": "IPY_MODEL_024b07a2832040e78d70dd406bd4b87b"
          }
        },
        "c002c3fd7f124ed7bc405b49fb5435b6": {
          "model_module": "@jupyter-widgets/controls",
          "model_name": "ProgressStyleModel",
          "state": {
            "_view_name": "StyleView",
            "_model_name": "ProgressStyleModel",
            "description_width": "initial",
            "_view_module": "@jupyter-widgets/base",
            "_model_module_version": "1.5.0",
            "_view_count": null,
            "_view_module_version": "1.2.0",
            "bar_color": null,
            "_model_module": "@jupyter-widgets/controls"
          }
        },
        "c98628bc34aa428a9fa355068c2d80de": {
          "model_module": "@jupyter-widgets/base",
          "model_name": "LayoutModel",
          "state": {
            "_view_name": "LayoutView",
            "grid_template_rows": null,
            "right": null,
            "justify_content": null,
            "_view_module": "@jupyter-widgets/base",
            "overflow": null,
            "_model_module_version": "1.2.0",
            "_view_count": null,
            "flex_flow": null,
            "width": null,
            "min_width": null,
            "border": null,
            "align_items": null,
            "bottom": null,
            "_model_module": "@jupyter-widgets/base",
            "top": null,
            "grid_column": null,
            "overflow_y": null,
            "overflow_x": null,
            "grid_auto_flow": null,
            "grid_area": null,
            "grid_template_columns": null,
            "flex": null,
            "_model_name": "LayoutModel",
            "justify_items": null,
            "grid_row": null,
            "max_height": null,
            "align_content": null,
            "visibility": null,
            "align_self": null,
            "height": null,
            "min_height": null,
            "padding": null,
            "grid_auto_rows": null,
            "grid_gap": null,
            "max_width": null,
            "order": null,
            "_view_module_version": "1.2.0",
            "grid_template_areas": null,
            "object_position": null,
            "object_fit": null,
            "grid_auto_columns": null,
            "margin": null,
            "display": null,
            "left": null
          }
        },
        "304c463c24424e51b5950ebe28a183d7": {
          "model_module": "@jupyter-widgets/controls",
          "model_name": "DescriptionStyleModel",
          "state": {
            "_view_name": "StyleView",
            "_model_name": "DescriptionStyleModel",
            "description_width": "",
            "_view_module": "@jupyter-widgets/base",
            "_model_module_version": "1.5.0",
            "_view_count": null,
            "_view_module_version": "1.2.0",
            "_model_module": "@jupyter-widgets/controls"
          }
        },
        "024b07a2832040e78d70dd406bd4b87b": {
          "model_module": "@jupyter-widgets/base",
          "model_name": "LayoutModel",
          "state": {
            "_view_name": "LayoutView",
            "grid_template_rows": null,
            "right": null,
            "justify_content": null,
            "_view_module": "@jupyter-widgets/base",
            "overflow": null,
            "_model_module_version": "1.2.0",
            "_view_count": null,
            "flex_flow": null,
            "width": null,
            "min_width": null,
            "border": null,
            "align_items": null,
            "bottom": null,
            "_model_module": "@jupyter-widgets/base",
            "top": null,
            "grid_column": null,
            "overflow_y": null,
            "overflow_x": null,
            "grid_auto_flow": null,
            "grid_area": null,
            "grid_template_columns": null,
            "flex": null,
            "_model_name": "LayoutModel",
            "justify_items": null,
            "grid_row": null,
            "max_height": null,
            "align_content": null,
            "visibility": null,
            "align_self": null,
            "height": null,
            "min_height": null,
            "padding": null,
            "grid_auto_rows": null,
            "grid_gap": null,
            "max_width": null,
            "order": null,
            "_view_module_version": "1.2.0",
            "grid_template_areas": null,
            "object_position": null,
            "object_fit": null,
            "grid_auto_columns": null,
            "margin": null,
            "display": null,
            "left": null
          }
        }
      }
    }
  },
  "cells": [
    {
      "cell_type": "markdown",
      "metadata": {
        "id": "view-in-github",
        "colab_type": "text"
      },
      "source": [
        "<a href=\"https://colab.research.google.com/github/sdhilip200/Machine-Translation-using-mBART-50-and-Hugging-Face/blob/main/Machine_Translation.ipynb\" target=\"_parent\"><img src=\"https://colab.research.google.com/assets/colab-badge.svg\" alt=\"Open In Colab\"/></a>"
      ]
    },
    {
      "cell_type": "markdown",
      "metadata": {
        "id": "HeRnQMaWO-_5"
      },
      "source": [
        "## **Installing Transformer library**"
      ]
    },
    {
      "cell_type": "code",
      "metadata": {
        "colab": {
          "base_uri": "https://localhost:8080/"
        },
        "id": "2RtEvp3Me4va",
        "outputId": "002219b8-18ac-4987-961f-adb4c68fe289"
      },
      "source": [
        "# Installing transformer\n",
        "\n",
        "!pip install -q transformers\n",
        "!pip install -q sentencepiece"
      ],
      "execution_count": 4,
      "outputs": [
        {
          "output_type": "stream",
          "text": [
            "\u001b[?25l\r\u001b[K     |▎                               | 10kB 29.5MB/s eta 0:00:01\r\u001b[K     |▌                               | 20kB 34.5MB/s eta 0:00:01\r\u001b[K     |▉                               | 30kB 24.4MB/s eta 0:00:01\r\u001b[K     |█                               | 40kB 27.7MB/s eta 0:00:01\r\u001b[K     |█▍                              | 51kB 28.6MB/s eta 0:00:01\r\u001b[K     |█▋                              | 61kB 31.3MB/s eta 0:00:01\r\u001b[K     |██                              | 71kB 20.2MB/s eta 0:00:01\r\u001b[K     |██▏                             | 81kB 21.4MB/s eta 0:00:01\r\u001b[K     |██▌                             | 92kB 20.1MB/s eta 0:00:01\r\u001b[K     |██▊                             | 102kB 20.1MB/s eta 0:00:01\r\u001b[K     |███                             | 112kB 20.1MB/s eta 0:00:01\r\u001b[K     |███▎                            | 122kB 20.1MB/s eta 0:00:01\r\u001b[K     |███▌                            | 133kB 20.1MB/s eta 0:00:01\r\u001b[K     |███▉                            | 143kB 20.1MB/s eta 0:00:01\r\u001b[K     |████                            | 153kB 20.1MB/s eta 0:00:01\r\u001b[K     |████▍                           | 163kB 20.1MB/s eta 0:00:01\r\u001b[K     |████▋                           | 174kB 20.1MB/s eta 0:00:01\r\u001b[K     |█████                           | 184kB 20.1MB/s eta 0:00:01\r\u001b[K     |█████▏                          | 194kB 20.1MB/s eta 0:00:01\r\u001b[K     |█████▌                          | 204kB 20.1MB/s eta 0:00:01\r\u001b[K     |█████▊                          | 215kB 20.1MB/s eta 0:00:01\r\u001b[K     |██████                          | 225kB 20.1MB/s eta 0:00:01\r\u001b[K     |██████▎                         | 235kB 20.1MB/s eta 0:00:01\r\u001b[K     |██████▌                         | 245kB 20.1MB/s eta 0:00:01\r\u001b[K     |██████▉                         | 256kB 20.1MB/s eta 0:00:01\r\u001b[K     |███████                         | 266kB 20.1MB/s eta 0:00:01\r\u001b[K     |███████▍                        | 276kB 20.1MB/s eta 0:00:01\r\u001b[K     |███████▋                        | 286kB 20.1MB/s eta 0:00:01\r\u001b[K     |████████                        | 296kB 20.1MB/s eta 0:00:01\r\u001b[K     |████████▏                       | 307kB 20.1MB/s eta 0:00:01\r\u001b[K     |████████▍                       | 317kB 20.1MB/s eta 0:00:01\r\u001b[K     |████████▊                       | 327kB 20.1MB/s eta 0:00:01\r\u001b[K     |█████████                       | 337kB 20.1MB/s eta 0:00:01\r\u001b[K     |█████████▎                      | 348kB 20.1MB/s eta 0:00:01\r\u001b[K     |█████████▌                      | 358kB 20.1MB/s eta 0:00:01\r\u001b[K     |█████████▉                      | 368kB 20.1MB/s eta 0:00:01\r\u001b[K     |██████████                      | 378kB 20.1MB/s eta 0:00:01\r\u001b[K     |██████████▍                     | 389kB 20.1MB/s eta 0:00:01\r\u001b[K     |██████████▋                     | 399kB 20.1MB/s eta 0:00:01\r\u001b[K     |███████████                     | 409kB 20.1MB/s eta 0:00:01\r\u001b[K     |███████████▏                    | 419kB 20.1MB/s eta 0:00:01\r\u001b[K     |███████████▍                    | 430kB 20.1MB/s eta 0:00:01\r\u001b[K     |███████████▊                    | 440kB 20.1MB/s eta 0:00:01\r\u001b[K     |████████████                    | 450kB 20.1MB/s eta 0:00:01\r\u001b[K     |████████████▎                   | 460kB 20.1MB/s eta 0:00:01\r\u001b[K     |████████████▌                   | 471kB 20.1MB/s eta 0:00:01\r\u001b[K     |████████████▉                   | 481kB 20.1MB/s eta 0:00:01\r\u001b[K     |█████████████                   | 491kB 20.1MB/s eta 0:00:01\r\u001b[K     |█████████████▍                  | 501kB 20.1MB/s eta 0:00:01\r\u001b[K     |█████████████▋                  | 512kB 20.1MB/s eta 0:00:01\r\u001b[K     |█████████████▉                  | 522kB 20.1MB/s eta 0:00:01\r\u001b[K     |██████████████▏                 | 532kB 20.1MB/s eta 0:00:01\r\u001b[K     |██████████████▍                 | 542kB 20.1MB/s eta 0:00:01\r\u001b[K     |██████████████▊                 | 552kB 20.1MB/s eta 0:00:01\r\u001b[K     |███████████████                 | 563kB 20.1MB/s eta 0:00:01\r\u001b[K     |███████████████▎                | 573kB 20.1MB/s eta 0:00:01\r\u001b[K     |███████████████▌                | 583kB 20.1MB/s eta 0:00:01\r\u001b[K     |███████████████▉                | 593kB 20.1MB/s eta 0:00:01\r\u001b[K     |████████████████                | 604kB 20.1MB/s eta 0:00:01\r\u001b[K     |████████████████▍               | 614kB 20.1MB/s eta 0:00:01\r\u001b[K     |████████████████▋               | 624kB 20.1MB/s eta 0:00:01\r\u001b[K     |████████████████▉               | 634kB 20.1MB/s eta 0:00:01\r\u001b[K     |█████████████████▏              | 645kB 20.1MB/s eta 0:00:01\r\u001b[K     |█████████████████▍              | 655kB 20.1MB/s eta 0:00:01\r\u001b[K     |█████████████████▊              | 665kB 20.1MB/s eta 0:00:01\r\u001b[K     |██████████████████              | 675kB 20.1MB/s eta 0:00:01\r\u001b[K     |██████████████████▎             | 686kB 20.1MB/s eta 0:00:01\r\u001b[K     |██████████████████▌             | 696kB 20.1MB/s eta 0:00:01\r\u001b[K     |██████████████████▉             | 706kB 20.1MB/s eta 0:00:01\r\u001b[K     |███████████████████             | 716kB 20.1MB/s eta 0:00:01\r\u001b[K     |███████████████████▎            | 727kB 20.1MB/s eta 0:00:01\r\u001b[K     |███████████████████▋            | 737kB 20.1MB/s eta 0:00:01\r\u001b[K     |███████████████████▉            | 747kB 20.1MB/s eta 0:00:01\r\u001b[K     |████████████████████▏           | 757kB 20.1MB/s eta 0:00:01\r\u001b[K     |████████████████████▍           | 768kB 20.1MB/s eta 0:00:01\r\u001b[K     |████████████████████▊           | 778kB 20.1MB/s eta 0:00:01\r\u001b[K     |█████████████████████           | 788kB 20.1MB/s eta 0:00:01\r\u001b[K     |█████████████████████▎          | 798kB 20.1MB/s eta 0:00:01\r\u001b[K     |█████████████████████▌          | 808kB 20.1MB/s eta 0:00:01\r\u001b[K     |█████████████████████▉          | 819kB 20.1MB/s eta 0:00:01\r\u001b[K     |██████████████████████          | 829kB 20.1MB/s eta 0:00:01\r\u001b[K     |██████████████████████▎         | 839kB 20.1MB/s eta 0:00:01\r\u001b[K     |██████████████████████▋         | 849kB 20.1MB/s eta 0:00:01\r\u001b[K     |██████████████████████▉         | 860kB 20.1MB/s eta 0:00:01\r\u001b[K     |███████████████████████▏        | 870kB 20.1MB/s eta 0:00:01\r\u001b[K     |███████████████████████▍        | 880kB 20.1MB/s eta 0:00:01\r\u001b[K     |███████████████████████▊        | 890kB 20.1MB/s eta 0:00:01\r\u001b[K     |████████████████████████        | 901kB 20.1MB/s eta 0:00:01\r\u001b[K     |████████████████████████▎       | 911kB 20.1MB/s eta 0:00:01\r\u001b[K     |████████████████████████▌       | 921kB 20.1MB/s eta 0:00:01\r\u001b[K     |████████████████████████▊       | 931kB 20.1MB/s eta 0:00:01\r\u001b[K     |█████████████████████████       | 942kB 20.1MB/s eta 0:00:01\r\u001b[K     |█████████████████████████▎      | 952kB 20.1MB/s eta 0:00:01\r\u001b[K     |█████████████████████████▋      | 962kB 20.1MB/s eta 0:00:01\r\u001b[K     |█████████████████████████▉      | 972kB 20.1MB/s eta 0:00:01\r\u001b[K     |██████████████████████████▏     | 983kB 20.1MB/s eta 0:00:01\r\u001b[K     |██████████████████████████▍     | 993kB 20.1MB/s eta 0:00:01\r\u001b[K     |██████████████████████████▊     | 1.0MB 20.1MB/s eta 0:00:01\r\u001b[K     |███████████████████████████     | 1.0MB 20.1MB/s eta 0:00:01\r\u001b[K     |███████████████████████████▎    | 1.0MB 20.1MB/s eta 0:00:01\r\u001b[K     |███████████████████████████▌    | 1.0MB 20.1MB/s eta 0:00:01\r\u001b[K     |███████████████████████████▊    | 1.0MB 20.1MB/s eta 0:00:01\r\u001b[K     |████████████████████████████    | 1.1MB 20.1MB/s eta 0:00:01\r\u001b[K     |████████████████████████████▎   | 1.1MB 20.1MB/s eta 0:00:01\r\u001b[K     |████████████████████████████▋   | 1.1MB 20.1MB/s eta 0:00:01\r\u001b[K     |████████████████████████████▉   | 1.1MB 20.1MB/s eta 0:00:01\r\u001b[K     |█████████████████████████████▏  | 1.1MB 20.1MB/s eta 0:00:01\r\u001b[K     |█████████████████████████████▍  | 1.1MB 20.1MB/s eta 0:00:01\r\u001b[K     |█████████████████████████████▊  | 1.1MB 20.1MB/s eta 0:00:01\r\u001b[K     |██████████████████████████████  | 1.1MB 20.1MB/s eta 0:00:01\r\u001b[K     |██████████████████████████████▏ | 1.1MB 20.1MB/s eta 0:00:01\r\u001b[K     |██████████████████████████████▌ | 1.1MB 20.1MB/s eta 0:00:01\r\u001b[K     |██████████████████████████████▊ | 1.2MB 20.1MB/s eta 0:00:01\r\u001b[K     |███████████████████████████████ | 1.2MB 20.1MB/s eta 0:00:01\r\u001b[K     |███████████████████████████████▎| 1.2MB 20.1MB/s eta 0:00:01\r\u001b[K     |███████████████████████████████▋| 1.2MB 20.1MB/s eta 0:00:01\r\u001b[K     |███████████████████████████████▉| 1.2MB 20.1MB/s eta 0:00:01\r\u001b[K     |████████████████████████████████| 1.2MB 20.1MB/s \n",
            "\u001b[?25h"
          ],
          "name": "stdout"
        }
      ]
    },
    {
      "cell_type": "markdown",
      "metadata": {
        "id": "MVvBUv9UREVI"
      },
      "source": [
        "SentencePiece is an unsupervised text tokenizer and detokenizer mainly for Neural Network-based text generation systems where the vocabulary size is predetermined prior to the neural model training. For more details please check this [Github](https://github.com/google/sentencepiece)"
      ]
    },
    {
      "cell_type": "code",
      "metadata": {
        "id": "BqfrTUTvPKkA"
      },
      "source": [
        ""
      ],
      "execution_count": null,
      "outputs": []
    },
    {
      "cell_type": "code",
      "metadata": {
        "id": "lWfamOm5PKnA"
      },
      "source": [
        ""
      ],
      "execution_count": null,
      "outputs": []
    },
    {
      "cell_type": "code",
      "metadata": {
        "id": "a2euOFb9PKp6"
      },
      "source": [
        ""
      ],
      "execution_count": null,
      "outputs": []
    },
    {
      "cell_type": "code",
      "metadata": {
        "id": "TJqUwL3JPKtZ"
      },
      "source": [
        ""
      ],
      "execution_count": null,
      "outputs": []
    },
    {
      "cell_type": "code",
      "metadata": {
        "colab": {
          "base_uri": "https://localhost:8080/"
        },
        "id": "OLwUoKhxD-jt",
        "outputId": "097c83e0-71ad-42f5-cb74-226ea3c958f5"
      },
      "source": [
        "!pip freeze | grep transformers"
      ],
      "execution_count": 3,
      "outputs": [
        {
          "output_type": "stream",
          "text": [
            "transformers==4.4.2\n"
          ],
          "name": "stdout"
        }
      ]
    },
    {
      "cell_type": "code",
      "metadata": {
        "id": "apok22zGeHWg"
      },
      "source": [
        "from transformers import MBartForConditionalGeneration, MBart50TokenizerFast\n"
      ],
      "execution_count": 9,
      "outputs": []
    },
    {
      "cell_type": "code",
      "metadata": {
        "id": "7aB7NFLzegiQ"
      },
      "source": [
        ""
      ],
      "execution_count": 9,
      "outputs": []
    },
    {
      "cell_type": "code",
      "metadata": {
        "id": "BQEzddKeeN2N",
        "colab": {
          "base_uri": "https://localhost:8080/",
          "height": 114,
          "referenced_widgets": [
            "cecc116517a748ea9db9bb15f68edf3d",
            "4e584c47ca254cbfb0648e6657bc0050",
            "538ff5a5772f44198cb999532c174ec3",
            "f80e5c2210f84363b4359dd5a27a0e46",
            "d254b37a0bc44a758af70409201acafc",
            "fefa569c49e04495a73c195acab7465c",
            "740e09f5ce924102af81d74f97660e46",
            "d1320a50325743bea745940a6b510381",
            "f973259bd9a0438aa7183acae82e5e34",
            "220e331fd28848e894d681a5f77869d1",
            "bef48e174b3949b0af80ee02f8be9420",
            "1f107ec472a145d2a0a31e0cbcfca8d1",
            "0361ec24eb6a416791a784a187c984e2",
            "282e91d56bb24517812affb85a5c0ca8",
            "2cf95c30912544d4a0c31512f5b4b86b",
            "05b5910fd38c417182de2c0101df5821"
          ]
        },
        "outputId": "3dfbce59-97d6-43e0-9bc4-b4904a134916"
      },
      "source": [
        "model = MBartForConditionalGeneration.from_pretrained(\"facebook/mbart-large-50-one-to-many-mmt\")\n",
        "\n"
      ],
      "execution_count": 10,
      "outputs": [
        {
          "output_type": "display_data",
          "data": {
            "application/vnd.jupyter.widget-view+json": {
              "model_id": "cecc116517a748ea9db9bb15f68edf3d",
              "version_minor": 0,
              "version_major": 2
            },
            "text/plain": [
              "HBox(children=(FloatProgress(value=0.0, description='Downloading', max=1428.0, style=ProgressStyle(description…"
            ]
          },
          "metadata": {
            "tags": []
          }
        },
        {
          "output_type": "stream",
          "text": [
            "\n"
          ],
          "name": "stdout"
        },
        {
          "output_type": "display_data",
          "data": {
            "application/vnd.jupyter.widget-view+json": {
              "model_id": "f973259bd9a0438aa7183acae82e5e34",
              "version_minor": 0,
              "version_major": 2
            },
            "text/plain": [
              "HBox(children=(FloatProgress(value=0.0, description='Downloading', max=2444714899.0, style=ProgressStyle(descr…"
            ]
          },
          "metadata": {
            "tags": []
          }
        },
        {
          "output_type": "stream",
          "text": [
            "\n"
          ],
          "name": "stdout"
        }
      ]
    },
    {
      "cell_type": "code",
      "metadata": {
        "id": "NJPI14dwX2oC",
        "colab": {
          "base_uri": "https://localhost:8080/",
          "height": 163,
          "referenced_widgets": [
            "0b45aef13d474e138d9e57da053b0800",
            "472ea435ce834d98a0144ff3996ad405",
            "82c94fac17a0486589b3c9998df4eda4",
            "95c0121c21374ded8ec3d3816e3ce324",
            "529ade3d70c44d4f83c625c4809451b9",
            "88e884d5653a4414b63fb4c968f114ee",
            "634c76b1d73b4c908fb3c19368deb8a6",
            "dc0e1d7dde47468f9dcd7ce5ce1affb2",
            "4af517e897824ddf8b2bc270df2e9bc7",
            "d412a1a1decc4090a6c737474b4ed099",
            "61894958ee734514b33c79ea1cbc075b",
            "2319053bff774f14ab1f86bdae967d5f",
            "af411f9cf24848d7858c7a004e837930",
            "77d4cab3f2774812ae41b258c40fee99",
            "900a0947afbf4ded988265fb2aa7fbb9",
            "b3013043b13940e6832c66e520c3a808",
            "20d41ccb3d33459494927b04ae7f5f97",
            "5059e08d16a54ddf914cc9b6b45f0e3b",
            "8566dcbf7ffd4f5abbfab37ff9e7d361",
            "b0bf68f7919b494b9decb6d49c958436",
            "c002c3fd7f124ed7bc405b49fb5435b6",
            "c98628bc34aa428a9fa355068c2d80de",
            "304c463c24424e51b5950ebe28a183d7",
            "024b07a2832040e78d70dd406bd4b87b"
          ]
        },
        "outputId": "2620c424-1f79-4491-c8c1-f9aa17d2b8bc"
      },
      "source": [
        "tokenizer = MBart50TokenizerFast.from_pretrained(\"facebook/mbart-large-50-one-to-many-mmt\", src_lang=\"en_XX\")\n"
      ],
      "execution_count": 11,
      "outputs": [
        {
          "output_type": "display_data",
          "data": {
            "application/vnd.jupyter.widget-view+json": {
              "model_id": "0b45aef13d474e138d9e57da053b0800",
              "version_minor": 0,
              "version_major": 2
            },
            "text/plain": [
              "HBox(children=(FloatProgress(value=0.0, description='Downloading', max=5069051.0, style=ProgressStyle(descript…"
            ]
          },
          "metadata": {
            "tags": []
          }
        },
        {
          "output_type": "stream",
          "text": [
            "\n"
          ],
          "name": "stdout"
        },
        {
          "output_type": "display_data",
          "data": {
            "application/vnd.jupyter.widget-view+json": {
              "model_id": "4af517e897824ddf8b2bc270df2e9bc7",
              "version_minor": 0,
              "version_major": 2
            },
            "text/plain": [
              "HBox(children=(FloatProgress(value=0.0, description='Downloading', max=717.0, style=ProgressStyle(description_…"
            ]
          },
          "metadata": {
            "tags": []
          }
        },
        {
          "output_type": "stream",
          "text": [
            "\n"
          ],
          "name": "stdout"
        },
        {
          "output_type": "display_data",
          "data": {
            "application/vnd.jupyter.widget-view+json": {
              "model_id": "20d41ccb3d33459494927b04ae7f5f97",
              "version_minor": 0,
              "version_major": 2
            },
            "text/plain": [
              "HBox(children=(FloatProgress(value=0.0, description='Downloading', max=528.0, style=ProgressStyle(description_…"
            ]
          },
          "metadata": {
            "tags": []
          }
        },
        {
          "output_type": "stream",
          "text": [
            "\n"
          ],
          "name": "stdout"
        }
      ]
    },
    {
      "cell_type": "code",
      "metadata": {
        "id": "-mqJLyp4eZaj"
      },
      "source": [
        "article_en = \"The MBart model was presented in Multilingual Denoising Pre-training for Neural Machine Translation by Yinhan Liu, Jiatao Gu, Naman Goyal, Xian Li, Sergey Edunov Marjan Ghazvininejad, Mike Lewis, Luke Zettlemoyer.\""
      ],
      "execution_count": 37,
      "outputs": []
    },
    {
      "cell_type": "code",
      "metadata": {
        "id": "Dzj93gO7f0Gc"
      },
      "source": [
        "model_inputs = tokenizer(article_en, return_tensors=\"pt\")\n"
      ],
      "execution_count": 38,
      "outputs": []
    },
    {
      "cell_type": "code",
      "metadata": {
        "id": "SAPso02IfehL"
      },
      "source": [
        "\n",
        "# translate from English to Hindi\n",
        "generated_tokens = model.generate(\n",
        "    **model_inputs,\n",
        "    forced_bos_token_id=tokenizer.lang_code_to_id[\"ta_IN\"]\n",
        ")\n",
        "\n"
      ],
      "execution_count": 39,
      "outputs": []
    },
    {
      "cell_type": "code",
      "metadata": {
        "id": "kNRp5-dMfoiw"
      },
      "source": [
        "translation = tokenizer.batch_decode(generated_tokens, skip_special_tokens=True)\n"
      ],
      "execution_count": 40,
      "outputs": []
    },
    {
      "cell_type": "code",
      "metadata": {
        "colab": {
          "base_uri": "https://localhost:8080/"
        },
        "id": "0QUelm8ZgIOU",
        "outputId": "1ef31f0f-ff19-499f-e800-fe897fa6e0a8"
      },
      "source": [
        "translation"
      ],
      "execution_count": 41,
      "outputs": [
        {
          "output_type": "execute_result",
          "data": {
            "text/plain": [
              "['MBart முன்மாதிரியானது, யுவின் லியூ, ஜியாட்டோ கு, நமன் கோயல், சான் லி, செர்கே இடுனோவ், மார்ஜன் காஸ்வினினெஜாத், மைக் லூயிஸ், லூக் செட்ல்மோயர் ஆகியோரால் நரம்பு இயந்திர மொழிபெயர்ப்புக்கான பல்மொழி விளக்க முன்பயிற்சியில் அறிமுகப்படுத்தப்பட்டது.']"
            ]
          },
          "metadata": {
            "tags": []
          },
          "execution_count": 41
        }
      ]
    },
    {
      "cell_type": "code",
      "metadata": {
        "id": "9VGDlKnEgGKD"
      },
      "source": [
        ""
      ],
      "execution_count": null,
      "outputs": []
    }
  ]
}